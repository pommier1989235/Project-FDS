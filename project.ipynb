{
 "cells": [
  {
   "cell_type": "code",
   "execution_count": 1,
   "metadata": {},
   "outputs": [],
   "source": [
    "import pandas as pd\n",
    "import numpy as np \n",
    "import scipy\n",
    "import matplotlib.pyplot as plt \n",
    "import pandas as pd \n",
    "from sklearn.datasets import make_classification\n",
    "import seaborn as sns\n",
    "from sklearn.linear_model import LogisticRegression\n",
    "from sklearn.naive_bayes import BernoulliNB\n",
    "from sklearn.metrics import accuracy_score\n",
    "from sklearn.model_selection import train_test_split\n",
    "from sklearn import preprocessing\n",
    "from sklearn.decomposition import PCA\n",
    "\n",
    "import warnings\n",
    "warnings.filterwarnings(\"ignore\")"
   ]
  },
  {
   "cell_type": "markdown",
   "metadata": {},
   "source": [
    "# 1. Model definitions"
   ]
  },
  {
   "cell_type": "markdown",
   "metadata": {},
   "source": [
    "## 1.1 Logistic regression"
   ]
  },
  {
   "cell_type": "code",
   "execution_count": 2,
   "metadata": {},
   "outputs": [],
   "source": [
    "def sigmoid(x):    \n",
    "    g=1/(1+np.exp(-x))\n",
    "    return g\n",
    "\n",
    "def gradient_descent(theta, features, target, lr, num_steps):\n",
    "    log_likelihood_history = np.zeros(num_steps)\n",
    "    \n",
    "    for step in range(num_steps):\n",
    "        # compute and store the log_likelihood value\n",
    "        hypothesis = sigmoid(theta.dot(features.T))\n",
    "        log_likelihood_history[step] = np.sum(target*np.log(hypothesis)+(1-target)*np.log(1-hypothesis))/features.shape[0]\n",
    "        #update theta to do the gradient descent \n",
    "        theta -= lr * (-np.sum((target - sigmoid(theta.dot(features.T)))[:,np.newaxis] * features, axis=0) / features.shape[0])\n",
    "\n",
    "    return theta, log_likelihood_history\n",
    "\n",
    "def accuracy(theta, X, y):\n",
    "\n",
    "    predictions = np.where(sigmoid(theta.dot(X.T)) >= 0.5, 1, 0)\n",
    "    accuracy = np.sum(predictions == y)/y.shape[0]\n",
    "    \n",
    "    return accuracy"
   ]
  },
  {
   "cell_type": "markdown",
   "metadata": {},
   "source": [
    "## 1.2 Naive Bayes"
   ]
  },
  {
   "cell_type": "code",
   "execution_count": 3,
   "metadata": {},
   "outputs": [],
   "source": [
    "class BernoulliNaiveBayes():\n",
    "\n",
    "    \n",
    "    def __init__(self):\n",
    "        self.fitted = False\n",
    "  \n",
    "\n",
    "    def fit(self, x_train, y_train):\n",
    "        self.fitted = False\n",
    "        self.x_train, self.y_train = x_train, y_train\n",
    "        self.n_samples, self.n_features = x_train.shape\n",
    "        self.features_count = np.zeros((2, self.n_features))\n",
    "        for cls in [0,1]:\n",
    "            self.features_count[cls] = np.sum(x_train[y_train==cls], axis=0)\n",
    "        self.fitted = True\n",
    "        \n",
    "        \n",
    "    # P(Y)\n",
    "    def __prior(self, cls):\n",
    "        return np.sum(y_train==cls)/self.n_samples\n",
    "        \n",
    "        \n",
    "    # P(X_i | Y_i)\n",
    "    def __feature_likelihood(self, x_i, i, cls, alpha=0.1):\n",
    "        p = (self.features_count[cls,i]) / (np.sum(self.y_train==cls))\n",
    "        return (p**x_i) * ((1-p)**(1-x_i))\n",
    "    \n",
    "    \n",
    "    # P(X | Y_i)\n",
    "    def __likelihood(self, x, cls):\n",
    "        return np.prod([self.__feature_likelihood(x[i],i,cls) for i in range(self.n_features)])\n",
    "    \n",
    "    \n",
    "    # P(Y | X)\n",
    "    def __posterior(self, x):\n",
    "        total_prob = np.sum([self.__likelihood(x,cls)*self.__prior(cls) for cls in [0,1]]) \n",
    "        return self.__likelihood(x,1)*self.__prior(1)/total_prob\n",
    "    \n",
    "    \n",
    "    def predict_proba(self, X_test):\n",
    "        if not self.fitted:\n",
    "            raise self.NotFittedError(\"Model not fitted, please call the fit method.\")\n",
    "        return np.array([self.__posterior(sample) for sample in X_test])\n",
    "        \n",
    "    \n",
    "    def predict(self, X_test):\n",
    "        return np.where(self.predict_proba(X_test) < 0.5, 0, 1)\n",
    "    \n",
    "    \n",
    "    def score(self, X_test, Y_test):\n",
    "        predictions = self.predict(X_test)\n",
    "        return np.sum(predictions == Y_test) / np.sum(Y_test.shape[0])\n",
    "    \n",
    "    \n",
    "    class NotFittedError(BaseException):\n",
    "        pass"
   ]
  },
  {
   "cell_type": "markdown",
   "metadata": {},
   "source": [
    "# 2. Data preparation"
   ]
  },
  {
   "cell_type": "code",
   "execution_count": 4,
   "metadata": {},
   "outputs": [
    {
     "data": {
      "text/html": [
       "<div>\n",
       "<style scoped>\n",
       "    .dataframe tbody tr th:only-of-type {\n",
       "        vertical-align: middle;\n",
       "    }\n",
       "\n",
       "    .dataframe tbody tr th {\n",
       "        vertical-align: top;\n",
       "    }\n",
       "\n",
       "    .dataframe thead th {\n",
       "        text-align: right;\n",
       "    }\n",
       "</style>\n",
       "<table border=\"1\" class=\"dataframe\">\n",
       "  <thead>\n",
       "    <tr style=\"text-align: right;\">\n",
       "      <th></th>\n",
       "      <th>gender</th>\n",
       "      <th>age_year</th>\n",
       "      <th>fever</th>\n",
       "      <th>cough</th>\n",
       "      <th>runny_nose</th>\n",
       "      <th>muscle_soreness</th>\n",
       "      <th>pneumonia</th>\n",
       "      <th>diarrhea</th>\n",
       "      <th>lung_infection</th>\n",
       "      <th>travel_history</th>\n",
       "      <th>isolation_treatment</th>\n",
       "      <th>SARS-CoV-2 Positive</th>\n",
       "    </tr>\n",
       "  </thead>\n",
       "  <tbody>\n",
       "    <tr>\n",
       "      <th>0</th>\n",
       "      <td>male</td>\n",
       "      <td>89</td>\n",
       "      <td>1</td>\n",
       "      <td>1</td>\n",
       "      <td>0</td>\n",
       "      <td>0</td>\n",
       "      <td>0</td>\n",
       "      <td>0</td>\n",
       "      <td>0</td>\n",
       "      <td>1</td>\n",
       "      <td>0</td>\n",
       "      <td>0</td>\n",
       "    </tr>\n",
       "    <tr>\n",
       "      <th>1</th>\n",
       "      <td>male</td>\n",
       "      <td>68</td>\n",
       "      <td>1</td>\n",
       "      <td>0</td>\n",
       "      <td>0</td>\n",
       "      <td>0</td>\n",
       "      <td>0</td>\n",
       "      <td>0</td>\n",
       "      <td>0</td>\n",
       "      <td>0</td>\n",
       "      <td>0</td>\n",
       "      <td>0</td>\n",
       "    </tr>\n",
       "    <tr>\n",
       "      <th>2</th>\n",
       "      <td>male</td>\n",
       "      <td>68</td>\n",
       "      <td>0</td>\n",
       "      <td>0</td>\n",
       "      <td>0</td>\n",
       "      <td>0</td>\n",
       "      <td>0</td>\n",
       "      <td>0</td>\n",
       "      <td>0</td>\n",
       "      <td>1</td>\n",
       "      <td>0</td>\n",
       "      <td>0</td>\n",
       "    </tr>\n",
       "    <tr>\n",
       "      <th>3</th>\n",
       "      <td>male</td>\n",
       "      <td>68</td>\n",
       "      <td>1</td>\n",
       "      <td>1</td>\n",
       "      <td>0</td>\n",
       "      <td>0</td>\n",
       "      <td>0</td>\n",
       "      <td>0</td>\n",
       "      <td>0</td>\n",
       "      <td>1</td>\n",
       "      <td>1</td>\n",
       "      <td>1</td>\n",
       "    </tr>\n",
       "    <tr>\n",
       "      <th>4</th>\n",
       "      <td>male</td>\n",
       "      <td>50</td>\n",
       "      <td>1</td>\n",
       "      <td>1</td>\n",
       "      <td>1</td>\n",
       "      <td>0</td>\n",
       "      <td>1</td>\n",
       "      <td>0</td>\n",
       "      <td>0</td>\n",
       "      <td>1</td>\n",
       "      <td>0</td>\n",
       "      <td>1</td>\n",
       "    </tr>\n",
       "  </tbody>\n",
       "</table>\n",
       "</div>"
      ],
      "text/plain": [
       "  gender  age_year  fever  cough  runny_nose  muscle_soreness  pneumonia  \\\n",
       "0   male        89      1      1           0                0          0   \n",
       "1   male        68      1      0           0                0          0   \n",
       "2   male        68      0      0           0                0          0   \n",
       "3   male        68      1      1           0                0          0   \n",
       "4   male        50      1      1           1                0          1   \n",
       "\n",
       "   diarrhea  lung_infection  travel_history  isolation_treatment  \\\n",
       "0         0               0               1                    0   \n",
       "1         0               0               0                    0   \n",
       "2         0               0               1                    0   \n",
       "3         0               0               1                    1   \n",
       "4         0               0               1                    0   \n",
       "\n",
       "   SARS-CoV-2 Positive  \n",
       "0                    0  \n",
       "1                    0  \n",
       "2                    0  \n",
       "3                    1  \n",
       "4                    1  "
      ]
     },
     "execution_count": 4,
     "metadata": {},
     "output_type": "execute_result"
    }
   ],
   "source": [
    "df = pd.read_csv(\"covid_early_stage_symptoms.csv\")\n",
    "df.head()"
   ]
  },
  {
   "cell_type": "code",
   "execution_count": 5,
   "metadata": {},
   "outputs": [
    {
     "data": {
      "text/html": [
       "<div>\n",
       "<style scoped>\n",
       "    .dataframe tbody tr th:only-of-type {\n",
       "        vertical-align: middle;\n",
       "    }\n",
       "\n",
       "    .dataframe tbody tr th {\n",
       "        vertical-align: top;\n",
       "    }\n",
       "\n",
       "    .dataframe thead th {\n",
       "        text-align: right;\n",
       "    }\n",
       "</style>\n",
       "<table border=\"1\" class=\"dataframe\">\n",
       "  <thead>\n",
       "    <tr style=\"text-align: right;\">\n",
       "      <th></th>\n",
       "      <th>gender</th>\n",
       "      <th>age_year</th>\n",
       "      <th>fever</th>\n",
       "      <th>cough</th>\n",
       "      <th>runny_nose</th>\n",
       "      <th>muscle_soreness</th>\n",
       "      <th>pneumonia</th>\n",
       "      <th>diarrhea</th>\n",
       "      <th>lung_infection</th>\n",
       "      <th>travel_history</th>\n",
       "      <th>isolation_treatment</th>\n",
       "      <th>SARS-CoV-2 Positive</th>\n",
       "    </tr>\n",
       "  </thead>\n",
       "  <tbody>\n",
       "    <tr>\n",
       "      <th>0</th>\n",
       "      <td>0</td>\n",
       "      <td>1</td>\n",
       "      <td>1</td>\n",
       "      <td>1</td>\n",
       "      <td>0</td>\n",
       "      <td>0</td>\n",
       "      <td>0</td>\n",
       "      <td>0</td>\n",
       "      <td>0</td>\n",
       "      <td>1</td>\n",
       "      <td>0</td>\n",
       "      <td>0</td>\n",
       "    </tr>\n",
       "    <tr>\n",
       "      <th>1</th>\n",
       "      <td>0</td>\n",
       "      <td>1</td>\n",
       "      <td>1</td>\n",
       "      <td>0</td>\n",
       "      <td>0</td>\n",
       "      <td>0</td>\n",
       "      <td>0</td>\n",
       "      <td>0</td>\n",
       "      <td>0</td>\n",
       "      <td>0</td>\n",
       "      <td>0</td>\n",
       "      <td>0</td>\n",
       "    </tr>\n",
       "    <tr>\n",
       "      <th>2</th>\n",
       "      <td>0</td>\n",
       "      <td>1</td>\n",
       "      <td>0</td>\n",
       "      <td>0</td>\n",
       "      <td>0</td>\n",
       "      <td>0</td>\n",
       "      <td>0</td>\n",
       "      <td>0</td>\n",
       "      <td>0</td>\n",
       "      <td>1</td>\n",
       "      <td>0</td>\n",
       "      <td>0</td>\n",
       "    </tr>\n",
       "    <tr>\n",
       "      <th>3</th>\n",
       "      <td>0</td>\n",
       "      <td>1</td>\n",
       "      <td>1</td>\n",
       "      <td>1</td>\n",
       "      <td>0</td>\n",
       "      <td>0</td>\n",
       "      <td>0</td>\n",
       "      <td>0</td>\n",
       "      <td>0</td>\n",
       "      <td>1</td>\n",
       "      <td>1</td>\n",
       "      <td>1</td>\n",
       "    </tr>\n",
       "    <tr>\n",
       "      <th>4</th>\n",
       "      <td>0</td>\n",
       "      <td>1</td>\n",
       "      <td>1</td>\n",
       "      <td>1</td>\n",
       "      <td>1</td>\n",
       "      <td>0</td>\n",
       "      <td>1</td>\n",
       "      <td>0</td>\n",
       "      <td>0</td>\n",
       "      <td>1</td>\n",
       "      <td>0</td>\n",
       "      <td>1</td>\n",
       "    </tr>\n",
       "  </tbody>\n",
       "</table>\n",
       "</div>"
      ],
      "text/plain": [
       "  gender  age_year  fever  cough  runny_nose  muscle_soreness  pneumonia  \\\n",
       "0      0         1      1      1           0                0          0   \n",
       "1      0         1      1      0           0                0          0   \n",
       "2      0         1      0      0           0                0          0   \n",
       "3      0         1      1      1           0                0          0   \n",
       "4      0         1      1      1           1                0          1   \n",
       "\n",
       "   diarrhea  lung_infection  travel_history  isolation_treatment  \\\n",
       "0         0               0               1                    0   \n",
       "1         0               0               0                    0   \n",
       "2         0               0               1                    0   \n",
       "3         0               0               1                    1   \n",
       "4         0               0               1                    0   \n",
       "\n",
       "   SARS-CoV-2 Positive  \n",
       "0                    0  \n",
       "1                    0  \n",
       "2                    0  \n",
       "3                    1  \n",
       "4                    1  "
      ]
     },
     "execution_count": 5,
     "metadata": {},
     "output_type": "execute_result"
    }
   ],
   "source": [
    "df['gender'].loc[df['gender'] == 'male'] = 0\n",
    "df['gender'].loc[df['gender'] == 'female'] = 1\n",
    "\n",
    "df['age_year'] = df['age_year'].apply(lambda x: 0 if x < 40 else 1)\n",
    "\n",
    "df.head()"
   ]
  },
  {
   "cell_type": "code",
   "execution_count": 6,
   "metadata": {},
   "outputs": [
    {
     "data": {
      "text/html": [
       "<div>\n",
       "<style scoped>\n",
       "    .dataframe tbody tr th:only-of-type {\n",
       "        vertical-align: middle;\n",
       "    }\n",
       "\n",
       "    .dataframe tbody tr th {\n",
       "        vertical-align: top;\n",
       "    }\n",
       "\n",
       "    .dataframe thead tr th {\n",
       "        text-align: left;\n",
       "    }\n",
       "\n",
       "    .dataframe thead tr:last-of-type th {\n",
       "        text-align: right;\n",
       "    }\n",
       "</style>\n",
       "<table border=\"1\" class=\"dataframe\">\n",
       "  <thead>\n",
       "    <tr>\n",
       "      <th></th>\n",
       "      <th colspan=\"8\" halign=\"left\">age_year</th>\n",
       "      <th colspan=\"2\" halign=\"left\">fever</th>\n",
       "      <th>...</th>\n",
       "      <th colspan=\"2\" halign=\"left\">travel_history</th>\n",
       "      <th colspan=\"8\" halign=\"left\">isolation_treatment</th>\n",
       "    </tr>\n",
       "    <tr>\n",
       "      <th></th>\n",
       "      <th>count</th>\n",
       "      <th>mean</th>\n",
       "      <th>std</th>\n",
       "      <th>min</th>\n",
       "      <th>25%</th>\n",
       "      <th>50%</th>\n",
       "      <th>75%</th>\n",
       "      <th>max</th>\n",
       "      <th>count</th>\n",
       "      <th>mean</th>\n",
       "      <th>...</th>\n",
       "      <th>75%</th>\n",
       "      <th>max</th>\n",
       "      <th>count</th>\n",
       "      <th>mean</th>\n",
       "      <th>std</th>\n",
       "      <th>min</th>\n",
       "      <th>25%</th>\n",
       "      <th>50%</th>\n",
       "      <th>75%</th>\n",
       "      <th>max</th>\n",
       "    </tr>\n",
       "    <tr>\n",
       "      <th>SARS-CoV-2 Positive</th>\n",
       "      <th></th>\n",
       "      <th></th>\n",
       "      <th></th>\n",
       "      <th></th>\n",
       "      <th></th>\n",
       "      <th></th>\n",
       "      <th></th>\n",
       "      <th></th>\n",
       "      <th></th>\n",
       "      <th></th>\n",
       "      <th></th>\n",
       "      <th></th>\n",
       "      <th></th>\n",
       "      <th></th>\n",
       "      <th></th>\n",
       "      <th></th>\n",
       "      <th></th>\n",
       "      <th></th>\n",
       "      <th></th>\n",
       "      <th></th>\n",
       "      <th></th>\n",
       "    </tr>\n",
       "  </thead>\n",
       "  <tbody>\n",
       "    <tr>\n",
       "      <th>0</th>\n",
       "      <td>4940.0</td>\n",
       "      <td>0.571457</td>\n",
       "      <td>0.494918</td>\n",
       "      <td>0.0</td>\n",
       "      <td>0.0</td>\n",
       "      <td>1.0</td>\n",
       "      <td>1.0</td>\n",
       "      <td>1.0</td>\n",
       "      <td>4940.0</td>\n",
       "      <td>0.290081</td>\n",
       "      <td>...</td>\n",
       "      <td>1.0</td>\n",
       "      <td>1.0</td>\n",
       "      <td>4940.0</td>\n",
       "      <td>0.162348</td>\n",
       "      <td>0.368807</td>\n",
       "      <td>0.0</td>\n",
       "      <td>0.0</td>\n",
       "      <td>0.0</td>\n",
       "      <td>0.0</td>\n",
       "      <td>1.0</td>\n",
       "    </tr>\n",
       "    <tr>\n",
       "      <th>1</th>\n",
       "      <td>1572.0</td>\n",
       "      <td>0.618321</td>\n",
       "      <td>0.485953</td>\n",
       "      <td>0.0</td>\n",
       "      <td>0.0</td>\n",
       "      <td>1.0</td>\n",
       "      <td>1.0</td>\n",
       "      <td>1.0</td>\n",
       "      <td>1572.0</td>\n",
       "      <td>0.790076</td>\n",
       "      <td>...</td>\n",
       "      <td>1.0</td>\n",
       "      <td>1.0</td>\n",
       "      <td>1572.0</td>\n",
       "      <td>0.388677</td>\n",
       "      <td>0.487605</td>\n",
       "      <td>0.0</td>\n",
       "      <td>0.0</td>\n",
       "      <td>0.0</td>\n",
       "      <td>1.0</td>\n",
       "      <td>1.0</td>\n",
       "    </tr>\n",
       "  </tbody>\n",
       "</table>\n",
       "<p>2 rows × 80 columns</p>\n",
       "</div>"
      ],
      "text/plain": [
       "                    age_year                                               \\\n",
       "                       count      mean       std  min  25%  50%  75%  max   \n",
       "SARS-CoV-2 Positive                                                         \n",
       "0                     4940.0  0.571457  0.494918  0.0  0.0  1.0  1.0  1.0   \n",
       "1                     1572.0  0.618321  0.485953  0.0  0.0  1.0  1.0  1.0   \n",
       "\n",
       "                      fever            ... travel_history       \\\n",
       "                      count      mean  ...            75%  max   \n",
       "SARS-CoV-2 Positive                    ...                       \n",
       "0                    4940.0  0.290081  ...            1.0  1.0   \n",
       "1                    1572.0  0.790076  ...            1.0  1.0   \n",
       "\n",
       "                    isolation_treatment                                     \\\n",
       "                                  count      mean       std  min  25%  50%   \n",
       "SARS-CoV-2 Positive                                                          \n",
       "0                                4940.0  0.162348  0.368807  0.0  0.0  0.0   \n",
       "1                                1572.0  0.388677  0.487605  0.0  0.0  0.0   \n",
       "\n",
       "                               \n",
       "                     75%  max  \n",
       "SARS-CoV-2 Positive            \n",
       "0                    0.0  1.0  \n",
       "1                    1.0  1.0  \n",
       "\n",
       "[2 rows x 80 columns]"
      ]
     },
     "execution_count": 6,
     "metadata": {},
     "output_type": "execute_result"
    }
   ],
   "source": [
    "df.groupby('SARS-CoV-2 Positive').describe()"
   ]
  },
  {
   "cell_type": "code",
   "execution_count": 7,
   "metadata": {},
   "outputs": [
    {
     "name": "stdout",
     "output_type": "stream",
     "text": [
      "<class 'pandas.core.frame.DataFrame'>\n",
      "RangeIndex: 6512 entries, 0 to 6511\n",
      "Data columns (total 12 columns):\n",
      " #   Column               Non-Null Count  Dtype \n",
      "---  ------               --------------  ----- \n",
      " 0   gender               6512 non-null   object\n",
      " 1   age_year             6512 non-null   int64 \n",
      " 2   fever                6512 non-null   int64 \n",
      " 3   cough                6512 non-null   int64 \n",
      " 4   runny_nose           6512 non-null   int64 \n",
      " 5   muscle_soreness      6512 non-null   int64 \n",
      " 6   pneumonia            6512 non-null   int64 \n",
      " 7   diarrhea             6512 non-null   int64 \n",
      " 8   lung_infection       6512 non-null   int64 \n",
      " 9   travel_history       6512 non-null   int64 \n",
      " 10  isolation_treatment  6512 non-null   int64 \n",
      " 11  SARS-CoV-2 Positive  6512 non-null   int64 \n",
      "dtypes: int64(11), object(1)\n",
      "memory usage: 610.6+ KB\n"
     ]
    }
   ],
   "source": [
    "df.info()"
   ]
  },
  {
   "cell_type": "code",
   "execution_count": 8,
   "metadata": {},
   "outputs": [],
   "source": [
    "X = df.drop(['SARS-CoV-2 Positive'], axis = 1, inplace = False).to_numpy(dtype = float)\n",
    "y = df['SARS-CoV-2 Positive'].to_numpy(dtype = int)\n",
    "# normalize\n",
    "Z = preprocessing.StandardScaler().fit_transform(X) \n",
    "# ACP\n",
    "pca = PCA(n_components=Z.shape[1])\n",
    "A = pca.fit_transform(Z)"
   ]
  },
  {
   "cell_type": "markdown",
   "metadata": {},
   "source": [
    "# 3. Performance\n",
    "### Confusion Matrix, Accuracy and Recall\n",
    "\n",
    "We compute confusion matrix for each model we made to compare their performance. \n",
    "Then, we do a score-based evaluation by computing the sensitivity (a.k.a recall) and accuracy.\n",
    "\n",
    "\\begin{bmatrix}\n",
    "TP & FP  \\\\\n",
    "FN & TN \n",
    "\\end{bmatrix}\n",
    "\n",
    "$Accuracy = \\frac{TP + TN}{m}$ from all the classes (Positive and Negative), how many we predicted correctly?\n",
    "\n",
    "$Recall = \\frac{TP}{TP + FN}$ from the positive classes, how many we predicted correctly? (Sensitivity, True positive Rate)\n",
    "\n",
    "$Specificity = \\frac{TN}{TN + FP}$ from the negative classes, how many we predicted correclty (True negative rate)\n",
    "\n",
    "$Precision = \\frac{TP}{TP + FP}$ from all the classes we predicted as positive, how many are actually positive?\n"
   ]
  },
  {
   "cell_type": "markdown",
   "metadata": {},
   "source": [
    "## 3.1 Logistic regression"
   ]
  },
  {
   "cell_type": "code",
   "execution_count": 9,
   "metadata": {},
   "outputs": [],
   "source": [
    "# Prepare test data\n",
    "#x = np.hstack([np.ones((A.shape[0], 1)), A])\n",
    "x_train,x_test,y_train,y_test=train_test_split(A,y,random_state=4,test_size=0.2)"
   ]
  },
  {
   "cell_type": "code",
   "execution_count": 10,
   "metadata": {},
   "outputs": [
    {
     "name": "stdout",
     "output_type": "stream",
     "text": [
      "[ 3.94053626 -2.6519548  -0.37840316 -0.03193018 -0.14950299  0.43323285\n",
      "  0.33020429 -0.17880723 -0.52283004  0.22327703 -5.12981778]\n"
     ]
    },
    {
     "data": {
      "image/png": "[encoded data removed]",
      "text/plain": [
       "<Figure size 432x288 with 1 Axes>"
      ]
     },
     "metadata": {
      "needs_background": "light"
     },
     "output_type": "display_data"
    }
   ],
   "source": [
    "# Initialize theta0\n",
    "theta0 = np.ones(x_train.shape[1])\n",
    "\n",
    "# Run Gradient Ascent method\n",
    "n_iter=3000\n",
    "theta_final, log_l_history = gradient_descent(theta0, x_train, y_train, lr=0.5, num_steps=n_iter)\n",
    "print(theta_final)\n",
    "\n",
    "fig,ax = plt.subplots(num=2)\n",
    "\n",
    "ax.set_ylabel('l(Theta)')\n",
    "ax.set_xlabel('Iterations')\n",
    "_=ax.plot(range(len(log_l_history)),log_l_history,'b.')"
   ]
  },
  {
   "cell_type": "code",
   "execution_count": 11,
   "metadata": {},
   "outputs": [
    {
     "data": {
      "image/png": "[encoded data removed]",
      "text/plain": [
       "<Figure size 432x288 with 1 Axes>"
      ]
     },
     "metadata": {
      "needs_background": "light"
     },
     "output_type": "display_data"
    }
   ],
   "source": [
    "# Generate vector to plot decision boundary\n",
    "x1_vec = np.linspace(x_train[:,0].min(),x_train[:,1].max(),2)\n",
    "\n",
    "# Plot raw data\n",
    "sns.scatterplot(x=x_train[:,0], y=x_train[:,1], hue=y_train)\n",
    "\n",
    "# Plot decision boundary\n",
    "plt.plot(x1_vec,(-x1_vec*theta_final[1]-theta_final[0])/theta_final[2], color=\"red\")\n",
    "plt.ylim(x_train[:,1].min()-1,x_train[:,1].max()+1)\n",
    "# Save the theta_final value for later comparisons\n",
    "theta_GA = theta_final.copy()"
   ]
  },
  {
   "cell_type": "code",
   "execution_count": 12,
   "metadata": {
    "scrolled": true
   },
   "outputs": [
    {
     "name": "stdout",
     "output_type": "stream",
     "text": [
      "accuracy is : 0.886415963161934\n"
     ]
    }
   ],
   "source": [
    "accuracy_lr = accuracy(theta_final, x_test, y_test)\n",
    "print('accuracy is :', accuracy_lr)"
   ]
  },
  {
   "cell_type": "markdown",
   "metadata": {},
   "source": [
    "#### Compare with the python library Logistic Regression"
   ]
  },
  {
   "cell_type": "code",
   "execution_count": 13,
   "metadata": {},
   "outputs": [
    {
     "name": "stdout",
     "output_type": "stream",
     "text": [
      "accuracy is 0.886415963161934\n"
     ]
    }
   ],
   "source": [
    "# fit data to LR model\n",
    "lr = LogisticRegression(solver='liblinear')\n",
    "lr.fit(x_train, y_train)\n",
    "\n",
    "preds = lr.predict(x_test)\n",
    "print('accuracy is',accuracy_score(y_test,preds))"
   ]
  },
  {
   "cell_type": "code",
   "execution_count": 14,
   "metadata": {},
   "outputs": [
    {
     "name": "stdout",
     "output_type": "stream",
     "text": [
      "[[958  24]\n",
      " [124 197]] \n",
      " recall score is: 0.8853974121996303 \n",
      " precision score is:0.9755600814663951 \n",
      " specificity score is: 0.8914027149321267\n"
     ]
    }
   ],
   "source": [
    "# LR with linear boundary \n",
    "from sklearn.metrics import confusion_matrix\n",
    "\n",
    "predictions = np.where(sigmoid(theta_final.dot(x_test.T))>=0.5,1,0)\n",
    "cm_lr = confusion_matrix(y_test, predictions)\n",
    "\n",
    "recall_lr = cm_lr[0,0]/(cm_lr[0,0] + cm_lr[1,0])\n",
    "precision_lr = cm_lr[0,0]/(cm_lr[0,0] + cm_lr[0,1])\n",
    "specificity_lr = cm_lr[1,1]/(cm_lr[1,1] + cm_lr[0,1])\n",
    "print(cm_lr, '\\n', 'recall score is: {} \\n precision score is:{} \\n specificity score is: {}'.format(recall_lr,precision_lr,specificity_lr))"
   ]
  },
  {
   "cell_type": "markdown",
   "metadata": {},
   "source": [
    "## 3.2 Multinomial logistic regression"
   ]
  },
  {
   "cell_type": "code",
   "execution_count": 15,
   "metadata": {},
   "outputs": [],
   "source": [
    "Z = preprocessing.StandardScaler().fit_transform(X) # normalize\n",
    "\n",
    "pca = PCA(n_components=2)\n",
    "A = pca.fit_transform(Z)\n",
    "\n",
    "A = np.hstack([np.ones((A.shape[0], 1)), A])"
   ]
  },
  {
   "cell_type": "code",
   "execution_count": 16,
   "metadata": {},
   "outputs": [],
   "source": [
    "def new_features(x, degree=2):\n",
    "    # represent the vector x0 of ones\n",
    "    features = np.ones(x[:,1].shape[0])\n",
    "    #store and stack at the right the vectors x1 and x2 (with the right shape)\n",
    "    x1,x2 = x[:,1], x[:,2]\n",
    "    features = np.hstack([features.reshape(features.shape[0], 1), x1.reshape(x1.shape[0], 1)])\n",
    "    features = np.hstack([features, x2.reshape(x2.shape[0], 1)])\n",
    "\n",
    "    # for each degree (2 or 3 or more) we stack every possible combination between x1 and x2 (sum of powers = degree = i)\n",
    "    for i in range(2, degree+1):\n",
    "        for j in range(i+1) :\n",
    "            x=(x1**(i-j))*(x2**(j))\n",
    "            features = np.hstack([features, x.reshape(x.shape[0], 1)])\n",
    "    \n",
    "    return features"
   ]
  },
  {
   "cell_type": "code",
   "execution_count": 17,
   "metadata": {},
   "outputs": [],
   "source": [
    "x_new_quad = new_features(A, degree=2)\n",
    "x_new_cubic = new_features(A, degree=3)\n",
    "\n",
    "#reordering output features\n",
    "temp = np.copy(x_new_quad[:, -1])\n",
    "x_new_quad[:, -1] = x_new_quad[:, -2]\n",
    "x_new_quad[:, -2] = temp\n",
    "\n",
    "temp = np.copy(x_new_cubic[:, -1])\n",
    "x_new_cubic[:, -1] = x_new_cubic[:, -2]\n",
    "x_new_cubic[:, -2] = x_new_cubic[:, -3]\n",
    "x_new_cubic[:, -3] = temp\n",
    "\n",
    "x_train, x_test ,y_train,y_test=train_test_split(A,y,random_state=4,test_size=0.2)\n",
    "x_train_quad,x_test_quad,y_train,y_test=train_test_split(x_new_quad,y,random_state=4,test_size=0.2)\n",
    "x_train_cubic,x_test_cubic,y_train,y_test=train_test_split(x_new_cubic,y,random_state=4,test_size=0.2)"
   ]
  },
  {
   "cell_type": "code",
   "execution_count": 18,
   "metadata": {},
   "outputs": [
    {
     "name": "stdout",
     "output_type": "stream",
     "text": [
      "[-0.97631862  1.66766374 -0.11914946 -0.1651253  -0.09291426 -0.16892655]\n",
      "[-0.64375005  1.25118884 -0.08125503 -0.82990586  0.02494826  0.00821261\n",
      "  0.17632106 -0.16114057  0.06394702  0.17548766]\n"
     ]
    }
   ],
   "source": [
    "# Initialize theta0, in case of quadratic features\n",
    "theta0_quad = np.zeros(x_train_quad.shape[1])\n",
    "\n",
    "theta_final_quad, log_l_history_quad = gradient_descent(theta0_quad,x_train_quad,y_train,lr=0.01,num_steps=n_iter)\n",
    "\n",
    "# Initialize theta0, in case of quadratic and cubic features\n",
    "theta0_cubic = np.zeros(x_train_cubic.shape[1])\n",
    "\n",
    "# Run Newton's method, in case of quadratic and cubic features\n",
    "theta_final_cubic, log_l_history_cubic = gradient_descent(theta0_cubic,x_train_cubic,y_train,lr=0.01,num_steps=n_iter)\n",
    "\n",
    "# check and compare with previous results\n",
    "print(theta_final_quad)\n",
    "print(theta_final_cubic)"
   ]
  },
  {
   "cell_type": "code",
   "execution_count": 19,
   "metadata": {},
   "outputs": [
    {
     "data": {
      "image/png": "[encoded data removed]",
      "text/plain": [
       "<Figure size 432x288 with 1 Axes>"
      ]
     },
     "metadata": {
      "needs_background": "light"
     },
     "output_type": "display_data"
    }
   ],
   "source": [
    "# Plot the log likelihood values in the optimization iterations, in one of the two cases.\n",
    "fig,ax = plt.subplots(num=2)\n",
    "\n",
    "ax.set_ylabel('l(Theta)')\n",
    "ax.set_xlabel('Iterations')\n",
    "_=ax.plot(range(len(log_l_history_quad)),log_l_history_quad,'b.')"
   ]
  },
  {
   "cell_type": "code",
   "execution_count": 20,
   "metadata": {},
   "outputs": [
    {
     "data": {
      "image/png": "[encoded data removed]",
      "text/plain": [
       "<Figure size 432x288 with 1 Axes>"
      ]
     },
     "metadata": {
      "needs_background": "light"
     },
     "output_type": "display_data"
    }
   ],
   "source": [
    "# Plot the log likelihood values in the optimization iterations, in one of the two cases.\n",
    "fig,ax = plt.subplots(num=2)\n",
    "\n",
    "ax.set_ylabel('l(Theta)')\n",
    "ax.set_xlabel('Iterations')\n",
    "_=ax.plot(range(len(log_l_history_quad)),log_l_history_cubic,'b.')"
   ]
  },
  {
   "cell_type": "code",
   "execution_count": 21,
   "metadata": {},
   "outputs": [],
   "source": [
    "def boundary_function(x1_vec, x2_vec, theta_final):\n",
    "    \n",
    "    x1_vec, x2_vec = np.meshgrid(x1_vec,x2_vec)\n",
    "    x1 = x1_vec\n",
    "    x2 = x2_vec\n",
    "    \n",
    "    if len(theta_final) == 6:\n",
    "        # boundary function value for features up to quadratic\n",
    "        c_0, c_1, c_2, c_3, c_4, c_5 = theta_final\n",
    "        f = c_0 + c_1*x1 + c_2*x2 + c_3*(x1**2) + c_4*(x2**2) + c_5*x1*x2\n",
    "    elif len(theta_final) == 10:\n",
    "        # boundary function value for features up to cubic\n",
    "        c_0, c_1, c_2, c_3, c_4, c_5, c_6, c_7, c_8, c_9 = theta_final\n",
    "        f = c_0 + c_1*x1 + c_2*x2 + c_3*(x1**2) + c_4*(x2**2) + c_5*x1*x2 + c_6*(x1**3) + c_7*(x2**3) + c_8*(x1**2)*x2+ c_9*x1*(x2**2)\n",
    "    else:\n",
    "        raise(\"Number of Parameters is not correct\")\n",
    "        \n",
    "    return x1_vec, x2_vec, f"
   ]
  },
  {
   "cell_type": "code",
   "execution_count": 22,
   "metadata": {},
   "outputs": [
    {
     "data": {
      "image/png": "[encoded data removed]",
      "text/plain": [
       "<Figure size 432x288 with 1 Axes>"
      ]
     },
     "metadata": {
      "needs_background": "light"
     },
     "output_type": "display_data"
    }
   ],
   "source": [
    "x1_vec = np.linspace(x_train_quad[:,1].min()-1,x_train[:,1].max()+1,200);\n",
    "x2_vec = np.linspace(x_train_quad[:,2].min()-1,x_train[:,2].max()+1,200);\n",
    "\n",
    "x1_vec, x2_vec, f = boundary_function(x1_vec, x2_vec, theta_final_quad)\n",
    "\n",
    "sns.scatterplot(x=x_train_quad[:,1], y=x_train_quad[:,2], hue=y_train);\n",
    "\n",
    "plt.contour(x1_vec, x2_vec, f, colors=\"red\", levels=[0])\n",
    "plt.show()"
   ]
  },
  {
   "cell_type": "code",
   "execution_count": 23,
   "metadata": {},
   "outputs": [
    {
     "data": {
      "image/png": "[encoded data removed]",
      "text/plain": [
       "<Figure size 432x288 with 1 Axes>"
      ]
     },
     "metadata": {
      "needs_background": "light"
     },
     "output_type": "display_data"
    }
   ],
   "source": [
    "x1_vec = np.linspace(x_train_cubic[:,1].min()-1,x_train_cubic[:,1].max()+1,200);\n",
    "x2_vec = np.linspace(x_train_cubic[:,2].min()-1,x_train_cubic[:,2].max()+1,200);\n",
    "\n",
    "x1_vec, x2_vec, f = boundary_function(x1_vec, x2_vec, theta_final_cubic)\n",
    "\n",
    "sns.scatterplot(x=x_train_cubic[:,1], y=x_train_cubic[:,2], hue=y_train);\n",
    "\n",
    "plt.contour(x1_vec, x2_vec, f, colors=\"red\", levels=[0])\n",
    "plt.show()"
   ]
  },
  {
   "cell_type": "code",
   "execution_count": 24,
   "metadata": {
    "scrolled": false
   },
   "outputs": [
    {
     "name": "stdout",
     "output_type": "stream",
     "text": [
      "quadratic accuracy is : 0.8495778971603991\n",
      "cubic accuracy is : 0.8434382194934766\n"
     ]
    }
   ],
   "source": [
    "accuracy_2r = accuracy(theta_final_quad, x_test_quad, y_test)\n",
    "accuracy_3r = accuracy(theta_final_cubic, x_test_cubic, y_test)\n",
    "\n",
    "print('quadratic accuracy is :', accuracy_2r)\n",
    "print('cubic accuracy is :', accuracy_3r)"
   ]
  },
  {
   "cell_type": "markdown",
   "metadata": {},
   "source": [
    "#### Compare with the python library LogisticRegression"
   ]
  },
  {
   "cell_type": "code",
   "execution_count": 25,
   "metadata": {},
   "outputs": [
    {
     "name": "stdout",
     "output_type": "stream",
     "text": [
      "accuracy is 0.8534151957022257\n"
     ]
    }
   ],
   "source": [
    "# fit data to LR model\n",
    "lr = LogisticRegression()\n",
    "lr.fit(x_train, y_train)\n",
    "\n",
    "preds = lr.predict(x_test)\n",
    "print('accuracy is',accuracy_score(y_test,preds))"
   ]
  },
  {
   "cell_type": "code",
   "execution_count": 26,
   "metadata": {},
   "outputs": [
    {
     "name": "stdout",
     "output_type": "stream",
     "text": [
      "[[956  26]\n",
      " [170 151]] \n",
      " recall score is: 0.8490230905861457 \n",
      " precision score is:0.9735234215885947 \n",
      " specificity score is: 0.8531073446327684\n"
     ]
    }
   ],
   "source": [
    "# LR with quadratic boundary\n",
    "\n",
    "predictions_2 = np.where(sigmoid(theta_final_quad.dot(x_test_quad.T))>=0.5,1,0)\n",
    "cm_2 = confusion_matrix(y_test, predictions_2)\n",
    "recall_2 = cm_2[0,0]/(cm_2[0,0] + cm_2[1,0])\n",
    "precision_2 = cm_2[0,0]/(cm_2[0,0] + cm_2[0,1])\n",
    "specificity_2 = cm_2[1,1]/(cm_2[1,1] + cm_2[0,1])\n",
    "print(cm_2, '\\n', 'recall score is: {} \\n precision score is:{} \\n specificity score is: {}'.format(recall_2,precision_2,specificity_2))"
   ]
  },
  {
   "cell_type": "code",
   "execution_count": 27,
   "metadata": {},
   "outputs": [
    {
     "name": "stdout",
     "output_type": "stream",
     "text": [
      "[[964  18]\n",
      " [186 135]] \n",
      " recall score is: 0.8382608695652174 \n",
      " precision score is:0.9816700610997964 \n",
      " specificity score is: 0.8823529411764706\n"
     ]
    }
   ],
   "source": [
    "# LR with cubic boundary \n",
    "\n",
    "predictions_3 = np.where(sigmoid(theta_final_cubic.dot(x_test_cubic.T))>=0.5,1,0)\n",
    "cm_3 = confusion_matrix(y_test, predictions_3)\n",
    "recall_3 = cm_3[0,0]/(cm_3[0,0] + cm_3[1,0])\n",
    "precision_3 = cm_3[0,0]/(cm_3[0,0] + cm_3[0,1])\n",
    "specificity_3 = cm_3[1,1]/(cm_3[1,1] + cm_3[0,1])\n",
    "print(cm_3, '\\n', 'recall score is: {} \\n precision score is:{} \\n specificity score is: {}'.format(recall_3,precision_3, specificity_3))"
   ]
  },
  {
   "cell_type": "markdown",
   "metadata": {},
   "source": [
    "## 3.3 Naive Bayes"
   ]
  },
  {
   "cell_type": "code",
   "execution_count": 28,
   "metadata": {},
   "outputs": [
    {
     "data": {
      "text/plain": [
       "0.8365310821181888"
      ]
     },
     "execution_count": 28,
     "metadata": {},
     "output_type": "execute_result"
    }
   ],
   "source": [
    "x_train_nb,x_test_nb,y_train_nb,y_test_nb=train_test_split(X,y,random_state=4,test_size=0.2)\n",
    "\n",
    "model = BernoulliNaiveBayes()\n",
    "model.fit(x_train_nb, y_train_nb)\n",
    "accuracy_nb = model.score(x_test_nb, y_test_nb)\n",
    "accuracy_nb"
   ]
  },
  {
   "cell_type": "markdown",
   "metadata": {},
   "source": [
    "#### Compare with the python library LogisticRegression"
   ]
  },
  {
   "cell_type": "code",
   "execution_count": 29,
   "metadata": {
    "scrolled": true
   },
   "outputs": [
    {
     "data": {
      "text/plain": [
       "0.8365310821181888"
      ]
     },
     "execution_count": 29,
     "metadata": {},
     "output_type": "execute_result"
    }
   ],
   "source": [
    "# Compare with sklearn\n",
    "sk_model = BernoulliNB()\n",
    "sk_model.fit(x_train_nb, y_train_nb)\n",
    "sk_model.score(x_test_nb, y_test_nb)"
   ]
  },
  {
   "cell_type": "code",
   "execution_count": 30,
   "metadata": {},
   "outputs": [
    {
     "name": "stdout",
     "output_type": "stream",
     "text": [
      "[[860 122]\n",
      " [ 91 230]] \n",
      " recall score is: 0.9043112513144059 \n",
      " precision score is: 0.8757637474541752 \n",
      " specificity score is: 0.6534090909090909\n"
     ]
    }
   ],
   "source": [
    "# Naive Bayes\n",
    "\n",
    "model = BernoulliNaiveBayes()\n",
    "model.fit(x_train_nb, y_train_nb)\n",
    "predictions_nb = model.predict(x_test_nb)\n",
    "cm_nb = confusion_matrix(y_test_nb, predictions_nb)\n",
    "recall_nb = cm_nb[0,0]/(cm_nb[0,0] + cm_nb[1,0])\n",
    "precision_nb = cm_nb[0,0]/(cm_nb[0,0] + cm_nb[0,1])\n",
    "specificity_nb = cm_nb[1,1]/(cm_nb[1,1] + cm_nb[0,1])\n",
    "print(cm_nb, '\\n', 'recall score is: {} \\n precision score is: {} \\n specificity score is: {}'.format(recall_nb,precision_nb,specificity_nb))"
   ]
  },
  {
   "cell_type": "markdown",
   "metadata": {},
   "source": [
    "# RECAP"
   ]
  },
  {
   "cell_type": "code",
   "execution_count": 31,
   "metadata": {},
   "outputs": [
    {
     "data": {
      "text/html": [
       "<div>\n",
       "<style scoped>\n",
       "    .dataframe tbody tr th:only-of-type {\n",
       "        vertical-align: middle;\n",
       "    }\n",
       "\n",
       "    .dataframe tbody tr th {\n",
       "        vertical-align: top;\n",
       "    }\n",
       "\n",
       "    .dataframe thead th {\n",
       "        text-align: right;\n",
       "    }\n",
       "</style>\n",
       "<table border=\"1\" class=\"dataframe\">\n",
       "  <thead>\n",
       "    <tr style=\"text-align: right;\">\n",
       "      <th></th>\n",
       "      <th>Linear Regression</th>\n",
       "      <th>polyRegression deg = 2</th>\n",
       "      <th>polyRegression deg = 3</th>\n",
       "      <th>Naive Bayes</th>\n",
       "    </tr>\n",
       "  </thead>\n",
       "  <tbody>\n",
       "    <tr>\n",
       "      <th>TP</th>\n",
       "      <td>958</td>\n",
       "      <td>956</td>\n",
       "      <td>964</td>\n",
       "      <td>860</td>\n",
       "    </tr>\n",
       "    <tr>\n",
       "      <th>FP</th>\n",
       "      <td>24</td>\n",
       "      <td>26</td>\n",
       "      <td>18</td>\n",
       "      <td>122</td>\n",
       "    </tr>\n",
       "    <tr>\n",
       "      <th>FN</th>\n",
       "      <td>124</td>\n",
       "      <td>170</td>\n",
       "      <td>186</td>\n",
       "      <td>91</td>\n",
       "    </tr>\n",
       "    <tr>\n",
       "      <th>TN</th>\n",
       "      <td>197</td>\n",
       "      <td>151</td>\n",
       "      <td>135</td>\n",
       "      <td>230</td>\n",
       "    </tr>\n",
       "    <tr>\n",
       "      <th>Accuracy</th>\n",
       "      <td>0.886416</td>\n",
       "      <td>0.849578</td>\n",
       "      <td>0.843438</td>\n",
       "      <td>0.836531</td>\n",
       "    </tr>\n",
       "    <tr>\n",
       "      <th>Recall</th>\n",
       "      <td>0.885397</td>\n",
       "      <td>0.849023</td>\n",
       "      <td>0.838261</td>\n",
       "      <td>0.904311</td>\n",
       "    </tr>\n",
       "    <tr>\n",
       "      <th>Precision</th>\n",
       "      <td>0.97556</td>\n",
       "      <td>0.973523</td>\n",
       "      <td>0.98167</td>\n",
       "      <td>0.875764</td>\n",
       "    </tr>\n",
       "    <tr>\n",
       "      <th>Specificity</th>\n",
       "      <td>0.891403</td>\n",
       "      <td>0.853107</td>\n",
       "      <td>0.882353</td>\n",
       "      <td>0.653409</td>\n",
       "    </tr>\n",
       "  </tbody>\n",
       "</table>\n",
       "</div>"
      ],
      "text/plain": [
       "            Linear Regression polyRegression deg = 2 polyRegression deg = 3  \\\n",
       "TP                        958                    956                    964   \n",
       "FP                         24                     26                     18   \n",
       "FN                        124                    170                    186   \n",
       "TN                        197                    151                    135   \n",
       "Accuracy             0.886416               0.849578               0.843438   \n",
       "Recall               0.885397               0.849023               0.838261   \n",
       "Precision             0.97556               0.973523                0.98167   \n",
       "Specificity          0.891403               0.853107               0.882353   \n",
       "\n",
       "            Naive Bayes  \n",
       "TP                  860  \n",
       "FP                  122  \n",
       "FN                   91  \n",
       "TN                  230  \n",
       "Accuracy       0.836531  \n",
       "Recall         0.904311  \n",
       "Precision      0.875764  \n",
       "Specificity    0.653409  "
      ]
     },
     "execution_count": 31,
     "metadata": {},
     "output_type": "execute_result"
    }
   ],
   "source": [
    "col = ['Linear Regression', 'polyRegression deg = 2', 'polyRegression deg = 3', 'Naive Bayes']\n",
    "index = ['TP', 'FP', 'FN', 'TN','Accuracy', 'Recall', 'Precision', 'Specificity']\n",
    "performance = pd.DataFrame(index = index, columns = col)\n",
    "\n",
    "#lr\n",
    "performance.iloc[0:4,0] = [cm_lr[0,0],cm_lr[0,1],cm_lr[1,0],cm_lr[1,1]]\n",
    "\n",
    "#2r\n",
    "performance.iloc[0:4,1] = [cm_2[0,0],cm_2[0,1],cm_2[1,0],cm_2[1,1]]\n",
    "\n",
    "#3r\n",
    "performance.iloc[0:4,2] = [cm_3[0,0],cm_3[0,1],cm_3[1,0],cm_3[1,1]]\n",
    "\n",
    "#NB\n",
    "performance.iloc[0:4,3] = [cm_nb[0,0],cm_nb[0,1],cm_nb[1,0],cm_nb[1,1]]\n",
    "\n",
    "performance.loc['Accuracy',:] = [accuracy_lr, accuracy_2r, accuracy_3r, accuracy_nb]\n",
    "performance.loc['Recall',:] = [recall_lr, recall_2, recall_3, recall_nb]\n",
    "performance.loc['Precision',:] = [precision_lr, precision_2, precision_3, precision_nb]\n",
    "performance.loc['Specificity',:] = [specificity_lr, specificity_2, specificity_3, specificity_nb]\n",
    "performance"
   ]
  },
  {
   "cell_type": "code",
   "execution_count": null,
   "metadata": {},
   "outputs": [],
   "source": []
  },
  {
   "cell_type": "code",
   "execution_count": null,
   "metadata": {},
   "outputs": [],
   "source": []
  }
 ],
 "metadata": {
  "kernelspec": {
   "display_name": "Python 3 (ipykernel)",
   "language": "python",
   "name": "python3"
  },
  "language_info": {
   "codemirror_mode": {
    "name": "ipython",
    "version": 3
   },
   "file_extension": ".py",
   "mimetype": "text/x-python",
   "name": "python",
   "nbconvert_exporter": "python",
   "pygments_lexer": "ipython3",
   "version": "3.9.9"
  }
 },
 "nbformat": 4,
 "nbformat_minor": 2
}
